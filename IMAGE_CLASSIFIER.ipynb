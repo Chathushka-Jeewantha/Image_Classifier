{
  "nbformat": 4,
  "nbformat_minor": 0,
  "metadata": {
    "colab": {
      "private_outputs": true,
      "provenance": [],
      "gpuType": "T4"
    },
    "kernelspec": {
      "name": "python3",
      "display_name": "Python 3"
    },
    "language_info": {
      "name": "python"
    },
    "accelerator": "GPU"
  },
  "cells": [
    {
      "cell_type": "code",
      "execution_count": null,
      "metadata": {
        "id": "HRSIAYvvC2ik"
      },
      "outputs": [],
      "source": [
        "! pip install opendatasets\n",
        "import numpy as np\n",
        "import matplotlib.pyplot as plt\n",
        "import pandas as pd\n",
        "import opendatasets as od\n",
        "import tensorflow as tf"
      ]
    },
    {
      "cell_type": "code",
      "source": [
        "od.download(\"https://www.kaggle.com/datasets/dineshpiyasamara/cats-and-dogs-for-classification\")\n"
      ],
      "metadata": {
        "id": "p8CW4YiBDD3l"
      },
      "execution_count": null,
      "outputs": []
    },
    {
      "cell_type": "code",
      "source": [
        "BATCH_SIZE=32\n",
        "IMAGE_SIZE=(128,128)"
      ],
      "metadata": {
        "id": "39SpFJEJDD6y"
      },
      "execution_count": null,
      "outputs": []
    },
    {
      "cell_type": "code",
      "source": [
        "\n",
        "train_data_dir=\"/content/cats-and-dogs-for-classification/cats_dogs/train\"\n",
        "test_data_dir=\"/content/cats-and-dogs-for-classification/cats_dogs/test\""
      ],
      "metadata": {
        "id": "M-mCxTlwDD9r"
      },
      "execution_count": null,
      "outputs": []
    },
    {
      "cell_type": "code",
      "source": [
        "train_data=tf.keras.utils.image_dataset_from_directory(train_data_dir,\n",
        "                                                       image_size=IMAGE_SIZE,\n",
        "                                                       batch_size=BATCH_SIZE,\n",
        "                                                       subset='training',\n",
        "                                                       validation_split=0.2,\n",
        "                                                       seed=42)\n",
        "\n",
        "\n",
        "validation_data=tf.keras.utils.image_dataset_from_directory(train_data_dir,\n",
        "                                                       image_size=IMAGE_SIZE,\n",
        "                                                       batch_size=BATCH_SIZE,\n",
        "                                                       subset='validation',\n",
        "                                                       validation_split=0.1,\n",
        "                                                       seed=42)\n",
        "\n",
        "\n",
        "test_data=tf.keras.utils.image_dataset_from_directory(test_data_dir,\n",
        "                                                       image_size=IMAGE_SIZE,\n",
        "                                                       batch_size=BATCH_SIZE)"
      ],
      "metadata": {
        "id": "udgC5-E-DEAt"
      },
      "execution_count": null,
      "outputs": []
    },
    {
      "cell_type": "code",
      "source": [
        "\n",
        "class_names=train_data.class_names\n",
        "class_names"
      ],
      "metadata": {
        "id": "wPlp2PC8DEDq"
      },
      "execution_count": null,
      "outputs": []
    },
    {
      "cell_type": "code",
      "source": [
        "for image_batch,label_batch in train_data.take(1):\n",
        "  print(image_batch.shape)\n",
        "  print(label_batch.shape)\n",
        ""
      ],
      "metadata": {
        "id": "FiIC-bcADEGk"
      },
      "execution_count": null,
      "outputs": []
    },
    {
      "cell_type": "code",
      "source": [
        "plt.figure(figsize=(10,4))\n",
        "for image,label in train_data.take(1):\n",
        "  for i in range(10):\n",
        "    ax=plt.subplot(2,5,i+1)\n",
        "    plt.imshow(image[i].numpy().astype(\"uint8\"))\n",
        "    plt.title(class_names[label[i]])\n",
        "    plt.axis(\"off\")"
      ],
      "metadata": {
        "id": "QXS4oA3IDEJg"
      },
      "execution_count": null,
      "outputs": []
    },
    {
      "cell_type": "code",
      "source": [
        "for image,label in train_data.take(1):\n",
        "  for i in range(1):\n",
        "    print(image)"
      ],
      "metadata": {
        "id": "h8tCZlDuDEMb"
      },
      "execution_count": null,
      "outputs": []
    },
    {
      "cell_type": "code",
      "source": [
        "\n",
        "train_data=train_data.map(lambda x,y:(x/255,y))\n",
        "validation_data=validation_data.map(lambda x,y:(x/255,y))\n",
        "test_data=test_data.map(lambda x,y:(x/255,y))"
      ],
      "metadata": {
        "id": "1xWEcV_dDEQM"
      },
      "execution_count": null,
      "outputs": []
    },
    {
      "cell_type": "code",
      "source": [
        "\n",
        "for image,label in train_data.take(1):\n",
        "  for i in range(1):\n",
        "    print(image)"
      ],
      "metadata": {
        "id": "psv4YcJUDER-"
      },
      "execution_count": null,
      "outputs": []
    },
    {
      "cell_type": "code",
      "source": [
        "\n",
        "data_augmentation=tf.keras.Sequential([\n",
        "    tf.keras.layers.RandomFlip(\"horizontal\",input_shape=(128,128,3)),\n",
        "    tf.keras.layers.RandomRotation(0.2),\n",
        "    tf.keras.layers.RandomZoom(0.2),\n",
        "])"
      ],
      "metadata": {
        "id": "GiDTyK55DEU2"
      },
      "execution_count": null,
      "outputs": []
    },
    {
      "cell_type": "code",
      "source": [
        "\n",
        "model=tf.keras.models.Sequential()\n",
        "\n",
        "model.add(data_augmentation)\n",
        "\n",
        "model.add(tf.keras.layers.Conv2D(32,kernel_size=3,activation=\"relu\"))\n",
        "model.add(tf.keras.layers.MaxPooling2D())\n",
        "\n",
        "model.add(tf.keras.layers.Conv2D(64,kernel_size=3,activation=\"relu\"))\n",
        "model.add(tf.keras.layers.MaxPooling2D())\n",
        "\n",
        "model.add(tf.keras.layers.Conv2D(128,kernel_size=3,activation=\"relu\"))\n",
        "model.add(tf.keras.layers.MaxPooling2D())\n",
        "\n",
        "model.add(tf.keras.layers.Dropout(0.2))\n",
        "model.add(tf.keras.layers.BatchNormalization())\n",
        "\n",
        "model.add(tf.keras.layers.Flatten())\n",
        "\n",
        "model.add(tf.keras.layers.Dense(128,activation=\"relu\"))\n",
        "model.add(tf.keras.layers.Dense(128,activation=\"relu\"))\n",
        "model.add(tf.keras.layers.Dense(32,activation=\"relu\"))\n",
        "\n",
        "model.add(tf.keras.layers.Dense(1,activation=\"sigmoid\"))"
      ],
      "metadata": {
        "id": "JFzIagHrDEXx"
      },
      "execution_count": null,
      "outputs": []
    },
    {
      "cell_type": "code",
      "source": [
        "model.summary\n",
        ""
      ],
      "metadata": {
        "id": "ZahiPc2rDEaq"
      },
      "execution_count": null,
      "outputs": []
    },
    {
      "cell_type": "code",
      "source": [
        "model.compile(optimizer=tf.keras.optimizers.Adam(),\n",
        "              loss=tf.keras.losses.BinaryCrossentropy(),\n",
        "              metrics=[\"accuracy\"])"
      ],
      "metadata": {
        "id": "CRLBqlcIDEdg"
      },
      "execution_count": null,
      "outputs": []
    },
    {
      "cell_type": "code",
      "source": [
        "history=model.fit(train_data,\n",
        "                  epochs=20,\n",
        "                  validation_data=validation_data)"
      ],
      "metadata": {
        "id": "yNErP_UdDEgg"
      },
      "execution_count": null,
      "outputs": []
    },
    {
      "cell_type": "code",
      "source": [
        "fig = plt.figure()\n",
        "plt.plot(history.history['accuracy'], color='teal', label='accuracy')\n",
        "plt.plot(history.history['val_accuracy'], color='orange', label='val_accuracy')\n",
        "fig.suptitle('Accuracy', fontsize=20)\n",
        "plt.legend()\n",
        "plt.show()"
      ],
      "metadata": {
        "id": "byTA3iqzDEjC"
      },
      "execution_count": null,
      "outputs": []
    },
    {
      "cell_type": "code",
      "source": [
        "\n",
        "history.history"
      ],
      "metadata": {
        "id": "pgPAlUfYDEk5"
      },
      "execution_count": null,
      "outputs": []
    },
    {
      "cell_type": "code",
      "source": [
        "precision=tf.keras.metrics.Precision()\n",
        "recall=tf.keras.metrics.Recall()\n",
        "accuracy=tf.keras.metrics.BinaryAccuracy()"
      ],
      "metadata": {
        "id": "rV4gm_GEDEn0"
      },
      "execution_count": null,
      "outputs": []
    },
    {
      "cell_type": "code",
      "source": [
        "\n",
        "fig=plt.figure()\n",
        "plt.plot(history.history['loss'],color='teal',label='loss')\n",
        "plt.plot(history.history['val_loss'],color='orange',label='val_loss')\n",
        "fig.suptitle('Loss',fontsize=20)\n",
        "plt.legend(loc='upper left')\n",
        "plt.show()"
      ],
      "metadata": {
        "id": "c-P-kjlxDErD"
      },
      "execution_count": null,
      "outputs": []
    },
    {
      "cell_type": "code",
      "source": [
        "for batch in test_data.as_numpy_iterator():\n",
        "  X,y=batch\n",
        "  yhat=model.predict(X)\n",
        "  precision.update_state(y,yhat)\n",
        "  recall.update_state(y,yhat)\n",
        "  accuracy.update_state(y,yhat)"
      ],
      "metadata": {
        "id": "kp_-FJgVEz8g"
      },
      "execution_count": null,
      "outputs": []
    },
    {
      "cell_type": "code",
      "source": [
        "precision.result()"
      ],
      "metadata": {
        "id": "3MwxDjkpE6BQ"
      },
      "execution_count": null,
      "outputs": []
    },
    {
      "cell_type": "code",
      "source": [
        "recall.result()"
      ],
      "metadata": {
        "id": "m0zg9HeVE6EW"
      },
      "execution_count": null,
      "outputs": []
    },
    {
      "cell_type": "code",
      "source": [
        "accuracy.result()\n",
        ""
      ],
      "metadata": {
        "id": "Hm9iBbWLE6HQ"
      },
      "execution_count": null,
      "outputs": []
    },
    {
      "cell_type": "code",
      "source": [
        "!pip install opencv-python"
      ],
      "metadata": {
        "id": "ci3MdM1AEz_z"
      },
      "execution_count": null,
      "outputs": []
    },
    {
      "cell_type": "code",
      "source": [
        "\n",
        "import cv2\n",
        "import matplotlib.pyplot as plt\n",
        "\n",
        "image = cv2.imread(\"/content/cats-and-dogs-for-classification/cats_dogs/test/cats/cat.4005.jpg\")\n",
        "plt.imshow(image)\n",
        "plt.show()"
      ],
      "metadata": {
        "id": "OCi6EEGKC-F5"
      },
      "execution_count": null,
      "outputs": []
    },
    {
      "cell_type": "code",
      "source": [
        "resized_image = tf.image.resize(image, IMAGE_SIZE)\n",
        "scaled_image = resized_image / 255"
      ],
      "metadata": {
        "id": "P5ffqMvCFHhS"
      },
      "execution_count": null,
      "outputs": []
    },
    {
      "cell_type": "code",
      "source": [
        "scaled_image"
      ],
      "metadata": {
        "id": "fJ3GX5oqFHnv"
      },
      "execution_count": null,
      "outputs": []
    },
    {
      "cell_type": "code",
      "source": [
        "np.expand_dims(scaled_image,0).shape"
      ],
      "metadata": {
        "id": "E5fIlzaXFHyi"
      },
      "execution_count": null,
      "outputs": []
    },
    {
      "cell_type": "code",
      "source": [
        "y_hat=model.predict(np.expand_dims(scaled_image,0))"
      ],
      "metadata": {
        "id": "VTcInb8sFVt2"
      },
      "execution_count": null,
      "outputs": []
    },
    {
      "cell_type": "code",
      "source": [
        "y_hat"
      ],
      "metadata": {
        "id": "guzZHnlKFVwt"
      },
      "execution_count": null,
      "outputs": []
    },
    {
      "cell_type": "code",
      "source": [
        "class_names"
      ],
      "metadata": {
        "id": "iIHtDiJ3FVy8"
      },
      "execution_count": null,
      "outputs": []
    },
    {
      "cell_type": "code",
      "source": [
        "if y_hat>0.5:\n",
        "  print(class_names[1])\n",
        "else:\n",
        "  print(class_names[0])"
      ],
      "metadata": {
        "id": "g3C76S3_FV2D"
      },
      "execution_count": null,
      "outputs": []
    },
    {
      "cell_type": "code",
      "source": [],
      "metadata": {
        "id": "RbrmKat2IHkI"
      },
      "execution_count": null,
      "outputs": []
    }
  ]
}